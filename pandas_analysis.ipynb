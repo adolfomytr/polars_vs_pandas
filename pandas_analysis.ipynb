{
 "cells": [
  {
   "cell_type": "markdown",
   "metadata": {},
   "source": [
    "## Pandas analysis for banking datset"
   ]
  },
  {
   "cell_type": "markdown",
   "metadata": {},
   "source": [
    "Dataset:\n",
    "https://www.kaggle.com/datasets/ismetsemedov/transactions?resource=download"
   ]
  },
  {
   "cell_type": "code",
   "execution_count": 29,
   "metadata": {},
   "outputs": [],
   "source": [
    "#Import libraries\n",
    "import pandas as pd\n",
    "import time\n",
    "import tracemalloc"
   ]
  },
  {
   "cell_type": "code",
   "execution_count": 30,
   "metadata": {},
   "outputs": [],
   "source": [
    "#Create function to measure and log results\n",
    "benchmark_results = []\n",
    "\n",
    "def measure_and_log(step_name, library_name, operation_func, *args, **kwargs):\n",
    "    import time\n",
    "    import tracemalloc\n",
    "\n",
    "    tracemalloc.start()\n",
    "    start = time.perf_counter()\n",
    "\n",
    "    result = operation_func(*args, **kwargs)\n",
    "\n",
    "    end = time.perf_counter()\n",
    "    _, peak = tracemalloc.get_traced_memory()\n",
    "    tracemalloc.stop()\n",
    "\n",
    "    # Build the new entry\n",
    "    new_entry = {\n",
    "        \"Library\": library_name,\n",
    "        \"Step\": step_name,\n",
    "        \"Time (s)\": round(end - start, 4),\n",
    "        \"Peak Memory (MB)\": round(peak / 10**6, 4)\n",
    "    }\n",
    "\n",
    "    # Remove existing entry for same library + step\n",
    "    global benchmark_results\n",
    "    benchmark_results = [\n",
    "        entry for entry in benchmark_results\n",
    "        if not (entry[\"Library\"] == library_name and entry[\"Step\"] == step_name)\n",
    "    ]\n",
    "\n",
    "    # Add the new one\n",
    "    benchmark_results.append(new_entry)\n",
    "\n",
    "    return result"
   ]
  },
  {
   "cell_type": "code",
   "execution_count": 31,
   "metadata": {},
   "outputs": [],
   "source": [
    "transactions_csv = '/Users/adolfomytr/Documents/Data Science/Polars/synthetic_fraud_data.csv'"
   ]
  },
  {
   "cell_type": "markdown",
   "metadata": {},
   "source": [
    "#### Step 1: Load the dataset"
   ]
  },
  {
   "cell_type": "code",
   "execution_count": 32,
   "metadata": {},
   "outputs": [],
   "source": [
    "def load_csv():\n",
    "    return pd.read_csv(transactions_csv, parse_dates=[\"timestamp\"])\n",
    "\n",
    "df = measure_and_log(\"Load CSV\", \"Pandas\", load_csv)"
   ]
  },
  {
   "cell_type": "markdown",
   "metadata": {},
   "source": [
    "#### Step 2: Exploratory Data Analysis"
   ]
  },
  {
   "cell_type": "code",
   "execution_count": 33,
   "metadata": {},
   "outputs": [],
   "source": [
    "summary = measure_and_log(\"Describe numeric columns\", \"Pandas\", lambda: df.describe())\n",
    "\n",
    "merchant_type_counts = measure_and_log(\"Merchang type value counts\", \"Pandas\", lambda: df[\"merchant_type\"].value_counts())\n",
    "\n",
    "missing_values = measure_and_log(\"Missing values per column\", \"Pandas\", lambda: df.isnull().sum())\n",
    "\n",
    "min_date = measure_and_log(\"Min txn_date\", \"Pandas\", lambda: df[\"timestamp\"].min())\n",
    "max_date = measure_and_log(\"Max txn_date\", \"Pandas\", lambda: df[\"timestamp\"].max())\n",
    "\n",
    "unique_customers = measure_and_log(\"Unique customer_id count\", \"Pandas\", lambda: df[\"customer_id\"].nunique())\n"
   ]
  },
  {
   "cell_type": "markdown",
   "metadata": {},
   "source": [
    "#### Step 3: Transaction Volume Analysis"
   ]
  },
  {
   "cell_type": "code",
   "execution_count": 34,
   "metadata": {},
   "outputs": [
    {
     "name": "stderr",
     "output_type": "stream",
     "text": [
      "/Users/adolfomytr/opt/anaconda3/lib/python3.8/site-packages/pandas/core/arrays/datetimes.py:1088: UserWarning: Converting to PeriodArray/Index representation will drop timezone information.\n",
      "  warnings.warn(\n"
     ]
    }
   ],
   "source": [
    "daily_txns = measure_and_log(\"Daily transaction count\", \"Pandas\", lambda: df.groupby(df[\"timestamp\"].dt.to_period(\"D\")).size())\n",
    "\n",
    "monthly_txns = measure_and_log(\"Monthly transaction count\", \"Pandas\", lambda: df.groupby(df[\"timestamp\"].dt.to_period(\"M\")).size())"
   ]
  },
  {
   "cell_type": "markdown",
   "metadata": {},
   "source": [
    "#### Step 4: Transaction Amount Aggregation"
   ]
  },
  {
   "cell_type": "code",
   "execution_count": 35,
   "metadata": {},
   "outputs": [],
   "source": [
    "avg_total_by_merch_type = measure_and_log(\"Avg/Total txn by merch type\", \"Pandas\", lambda: df.groupby(\"merchant_type\")[\"amount\"].agg([\"mean\", \"sum\"]))\n",
    "\n",
    "top_customers = measure_and_log(\"Top 10 customers by volume\", \"Pandas\",\n",
    "    lambda: df.groupby(\"customer_id\")[\"amount\"].sum().sort_values(ascending=False).head(10)\n",
    ")"
   ]
  },
  {
   "cell_type": "markdown",
   "metadata": {},
   "source": [
    "#### Step 5: Fraud Analysis"
   ]
  },
  {
   "cell_type": "code",
   "execution_count": 36,
   "metadata": {},
   "outputs": [],
   "source": [
    "fraud_vs_nonfraud = measure_and_log(\"Fraud vs Non-Fraud Count\", \"Pandas\", lambda: df[\"is_fraud\"].value_counts())\n",
    "\n",
    "fraud_rate_by_type = measure_and_log(\"Fraud rate by merchant_type\", \"Pandas\",\n",
    "    lambda: df.groupby(\"merchant_type\")[\"is_fraud\"].mean()\n",
    ")\n",
    "\n",
    "fraud_amount_distribution = measure_and_log(\"Fraud amount stats\", \"Pandas\",\n",
    "    lambda: df[df[\"is_fraud\"] == 1][\"amount\"].describe()\n",
    ")"
   ]
  },
  {
   "cell_type": "markdown",
   "metadata": {},
   "source": [
    "#### Step 6: Export benchmark results"
   ]
  },
  {
   "cell_type": "code",
   "execution_count": 37,
   "metadata": {},
   "outputs": [
    {
     "data": {
      "text/html": [
       "<div>\n",
       "<style scoped>\n",
       "    .dataframe tbody tr th:only-of-type {\n",
       "        vertical-align: middle;\n",
       "    }\n",
       "\n",
       "    .dataframe tbody tr th {\n",
       "        vertical-align: top;\n",
       "    }\n",
       "\n",
       "    .dataframe thead th {\n",
       "        text-align: right;\n",
       "    }\n",
       "</style>\n",
       "<table border=\"1\" class=\"dataframe\">\n",
       "  <thead>\n",
       "    <tr style=\"text-align: right;\">\n",
       "      <th></th>\n",
       "      <th>Library</th>\n",
       "      <th>Step</th>\n",
       "      <th>Time (s)</th>\n",
       "      <th>Peak Memory (MB)</th>\n",
       "    </tr>\n",
       "  </thead>\n",
       "  <tbody>\n",
       "    <tr>\n",
       "      <th>0</th>\n",
       "      <td>Pandas</td>\n",
       "      <td>Load CSV</td>\n",
       "      <td>171.9839</td>\n",
       "      <td>6036.7279</td>\n",
       "    </tr>\n",
       "    <tr>\n",
       "      <th>1</th>\n",
       "      <td>Pandas</td>\n",
       "      <td>Describe numeric columns</td>\n",
       "      <td>1.2556</td>\n",
       "      <td>366.7304</td>\n",
       "    </tr>\n",
       "    <tr>\n",
       "      <th>2</th>\n",
       "      <td>Pandas</td>\n",
       "      <td>Merchang type value counts</td>\n",
       "      <td>0.7293</td>\n",
       "      <td>14.9697</td>\n",
       "    </tr>\n",
       "    <tr>\n",
       "      <th>3</th>\n",
       "      <td>Pandas</td>\n",
       "      <td>Missing values per column</td>\n",
       "      <td>7.8920</td>\n",
       "      <td>538.8379</td>\n",
       "    </tr>\n",
       "    <tr>\n",
       "      <th>4</th>\n",
       "      <td>Pandas</td>\n",
       "      <td>Min txn_date</td>\n",
       "      <td>0.0559</td>\n",
       "      <td>67.4210</td>\n",
       "    </tr>\n",
       "    <tr>\n",
       "      <th>5</th>\n",
       "      <td>Pandas</td>\n",
       "      <td>Max txn_date</td>\n",
       "      <td>0.0132</td>\n",
       "      <td>14.9684</td>\n",
       "    </tr>\n",
       "    <tr>\n",
       "      <th>6</th>\n",
       "      <td>Pandas</td>\n",
       "      <td>Unique customer_id count</td>\n",
       "      <td>0.3876</td>\n",
       "      <td>59.9374</td>\n",
       "    </tr>\n",
       "    <tr>\n",
       "      <th>7</th>\n",
       "      <td>Pandas</td>\n",
       "      <td>Daily transaction count</td>\n",
       "      <td>0.3228</td>\n",
       "      <td>187.1018</td>\n",
       "    </tr>\n",
       "    <tr>\n",
       "      <th>8</th>\n",
       "      <td>Pandas</td>\n",
       "      <td>Monthly transaction count</td>\n",
       "      <td>0.2407</td>\n",
       "      <td>187.0986</td>\n",
       "    </tr>\n",
       "    <tr>\n",
       "      <th>9</th>\n",
       "      <td>Pandas</td>\n",
       "      <td>Avg/Total txn by merch type</td>\n",
       "      <td>0.4115</td>\n",
       "      <td>119.7487</td>\n",
       "    </tr>\n",
       "    <tr>\n",
       "      <th>10</th>\n",
       "      <td>Pandas</td>\n",
       "      <td>Top 10 customers by volume</td>\n",
       "      <td>0.3736</td>\n",
       "      <td>119.9001</td>\n",
       "    </tr>\n",
       "    <tr>\n",
       "      <th>11</th>\n",
       "      <td>Pandas</td>\n",
       "      <td>Fraud vs Non-Fraud Count</td>\n",
       "      <td>0.0417</td>\n",
       "      <td>67.3589</td>\n",
       "    </tr>\n",
       "    <tr>\n",
       "      <th>12</th>\n",
       "      <td>Pandas</td>\n",
       "      <td>Fraud rate by merchant_type</td>\n",
       "      <td>0.3767</td>\n",
       "      <td>179.6154</td>\n",
       "    </tr>\n",
       "    <tr>\n",
       "      <th>13</th>\n",
       "      <td>Pandas</td>\n",
       "      <td>Fraud amount stats</td>\n",
       "      <td>3.2021</td>\n",
       "      <td>336.4072</td>\n",
       "    </tr>\n",
       "  </tbody>\n",
       "</table>\n",
       "</div>"
      ],
      "text/plain": [
       "   Library                         Step  Time (s)  Peak Memory (MB)\n",
       "0   Pandas                     Load CSV  171.9839         6036.7279\n",
       "1   Pandas     Describe numeric columns    1.2556          366.7304\n",
       "2   Pandas   Merchang type value counts    0.7293           14.9697\n",
       "3   Pandas    Missing values per column    7.8920          538.8379\n",
       "4   Pandas                 Min txn_date    0.0559           67.4210\n",
       "5   Pandas                 Max txn_date    0.0132           14.9684\n",
       "6   Pandas     Unique customer_id count    0.3876           59.9374\n",
       "7   Pandas      Daily transaction count    0.3228          187.1018\n",
       "8   Pandas    Monthly transaction count    0.2407          187.0986\n",
       "9   Pandas  Avg/Total txn by merch type    0.4115          119.7487\n",
       "10  Pandas   Top 10 customers by volume    0.3736          119.9001\n",
       "11  Pandas     Fraud vs Non-Fraud Count    0.0417           67.3589\n",
       "12  Pandas  Fraud rate by merchant_type    0.3767          179.6154\n",
       "13  Pandas           Fraud amount stats    3.2021          336.4072"
      ]
     },
     "execution_count": 37,
     "metadata": {},
     "output_type": "execute_result"
    }
   ],
   "source": [
    "pd.DataFrame(benchmark_results).to_csv(\"/Users/adolfomytr/Documents/Data Science/Polars/benchmark_pandas.csv\", index=False)\n",
    "pd.DataFrame(benchmark_results)"
   ]
  }
 ],
 "metadata": {
  "interpreter": {
   "hash": "0f91180def9761d74e81fd9fdbab0cc01546487628c1d5aa90fa88fd78819f25"
  },
  "kernelspec": {
   "display_name": "Python 3.8.5 ('myvenv': venv)",
   "language": "python",
   "name": "python3"
  },
  "language_info": {
   "codemirror_mode": {
    "name": "ipython",
    "version": 3
   },
   "file_extension": ".py",
   "mimetype": "text/x-python",
   "name": "python",
   "nbconvert_exporter": "python",
   "pygments_lexer": "ipython3",
   "version": "3.8.5"
  },
  "orig_nbformat": 4
 },
 "nbformat": 4,
 "nbformat_minor": 2
}
