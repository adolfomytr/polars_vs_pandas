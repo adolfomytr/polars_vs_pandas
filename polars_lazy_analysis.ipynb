{
 "cells": [
  {
   "cell_type": "markdown",
   "metadata": {},
   "source": [
    "## Polars Lazy analysis for banking datset"
   ]
  },
  {
   "cell_type": "markdown",
   "metadata": {},
   "source": [
    "Dataset:\n",
    "https://www.kaggle.com/datasets/ismetsemedov/transactions?resource=download"
   ]
  },
  {
   "cell_type": "code",
   "execution_count": 1,
   "metadata": {},
   "outputs": [],
   "source": [
    "#Import libraries\n",
    "import polars as pl\n",
    "import time\n",
    "import tracemalloc"
   ]
  },
  {
   "cell_type": "code",
   "execution_count": 2,
   "metadata": {},
   "outputs": [],
   "source": [
    "# Create function to measure and log results (Polars Lazy - fixed for Series/scalars)\n",
    "benchmark_results = []\n",
    "\n",
    "def measure_and_log(step_name, library_name, operation_func, *args, **kwargs):\n",
    "    import time\n",
    "    import tracemalloc\n",
    "    import polars as pl\n",
    "\n",
    "    tracemalloc.start()\n",
    "    start = time.perf_counter()\n",
    "\n",
    "    result = operation_func(*args, **kwargs)\n",
    "\n",
    "    end = time.perf_counter()\n",
    "    _, peak = tracemalloc.get_traced_memory()\n",
    "    tracemalloc.stop()\n",
    "\n",
    "    # ✅ Measure total object memory (only if DataFrame can be collected)\n",
    "    total_mem = None\n",
    "    try:\n",
    "        if isinstance(result, pl.LazyFrame):\n",
    "            total_mem = round(result.collect().estimated_size() / 10**6, 4)\n",
    "        elif isinstance(result, pl.DataFrame):\n",
    "            total_mem = round(result.estimated_size() / 10**6, 4)\n",
    "    except Exception:\n",
    "        total_mem = None\n",
    "\n",
    "    new_entry = {\n",
    "        \"Library\": library_name,\n",
    "        \"Step\": step_name,\n",
    "        \"Time (s)\": round(end - start, 4),\n",
    "        \"Peak Memory (MB)\": round(peak / 10**6, 4),\n",
    "        \"Total Object Memory (MB)\": total_mem\n",
    "    }\n",
    "\n",
    "    global benchmark_results\n",
    "    benchmark_results = [\n",
    "        entry for entry in benchmark_results\n",
    "        if not (entry[\"Library\"] == library_name and entry[\"Step\"] == step_name)\n",
    "    ]\n",
    "\n",
    "    benchmark_results.append(new_entry)\n",
    "\n",
    "    return result\n"
   ]
  },
  {
   "cell_type": "code",
   "execution_count": 3,
   "metadata": {},
   "outputs": [],
   "source": [
    "transactions_csv = '/Users/adolfomytr/Documents/Data Science/Polars/synthetic_fraud_data.csv'"
   ]
  },
  {
   "cell_type": "markdown",
   "metadata": {},
   "source": [
    "#### Step 1: Load the dataset"
   ]
  },
  {
   "cell_type": "code",
   "execution_count": 4,
   "metadata": {},
   "outputs": [],
   "source": [
    "def load_lazy():\n",
    "    return pl.read_csv(transactions_csv, try_parse_dates=True).lazy()\n",
    "\n",
    "lf = measure_and_log(\"Load CSV\", \"Polars Lazy\", load_lazy)"
   ]
  },
  {
   "cell_type": "markdown",
   "metadata": {},
   "source": [
    "#### Step 2: Exploratory Data Analysis"
   ]
  },
  {
   "cell_type": "code",
   "execution_count": 5,
   "metadata": {},
   "outputs": [],
   "source": [
    "summary = measure_and_log(\n",
    "    \"Describe numeric columns\", \"Polars Lazy\",\n",
    "    lambda: lf.collect().describe()\n",
    ")\n",
    "\n",
    "merchant_type_counts = measure_and_log(\n",
    "    \"Merchant type value counts\", \"Polars Lazy\",\n",
    "    lambda: lf.select(pl.col(\"merchant_type\").value_counts()).collect()\n",
    ")\n",
    "\n",
    "missing_values = measure_and_log(\n",
    "    \"Missing values per column\", \"Polars Lazy\",\n",
    "    lambda: lf.null_count().collect()\n",
    ")\n",
    "\n",
    "min_date = measure_and_log(\n",
    "    \"Min txn_date\", \"Polars Lazy\",\n",
    "    lambda: lf.select(pl.col(\"timestamp\").min()).collect()\n",
    ")\n",
    "\n",
    "max_date = measure_and_log(\n",
    "    \"Max txn_date\", \"Polars Lazy\",\n",
    "    lambda: lf.select(pl.col(\"timestamp\").max()).collect()\n",
    ")\n",
    "\n",
    "unique_customers = measure_and_log(\n",
    "    \"Unique customer_id count\", \"Polars Lazy\",\n",
    "    lambda: lf.select(\"customer_id\").unique().select(pl.len()).collect()\n",
    ")"
   ]
  },
  {
   "cell_type": "markdown",
   "metadata": {},
   "source": [
    "#### Step 3: Transaction Volume Analysis"
   ]
  },
  {
   "cell_type": "code",
   "execution_count": 6,
   "metadata": {},
   "outputs": [],
   "source": [
    "daily_txns = measure_and_log(\"Daily transaction count\", \"Polars Lazy\", lambda: \n",
    "    lf.with_columns(\n",
    "        pl.col(\"timestamp\").dt.truncate(\"1d\").alias(\"day\")\n",
    "    ).group_by(\"day\").agg(\n",
    "        pl.len().alias(\"txn_count\")\n",
    "    ).collect()\n",
    ")\n",
    "\n",
    "monthly_txns = measure_and_log(\"Monthly transaction count\", \"Polars Lazy\", lambda: \n",
    "    lf.with_columns(\n",
    "        pl.col(\"timestamp\").dt.truncate(\"1mo\").alias(\"month\")\n",
    "    ).group_by(\"month\").agg(\n",
    "        pl.len().alias(\"txn_count\")\n",
    "    ).collect()\n",
    ")"
   ]
  },
  {
   "cell_type": "markdown",
   "metadata": {},
   "source": [
    "#### Step 4: Transaction Amount Aggregation"
   ]
  },
  {
   "cell_type": "code",
   "execution_count": 7,
   "metadata": {},
   "outputs": [],
   "source": [
    "avg_total_by_type = measure_and_log(\"Avg/Total txn by merch type\", \"Polars Lazy\", lambda: \n",
    "    lf.group_by(\"merchant_type\").agg([\n",
    "        pl.col(\"amount\").mean().alias(\"avg_amount\"),\n",
    "        pl.col(\"amount\").sum().alias(\"total_amount\")\n",
    "    ]).collect()\n",
    ")\n",
    "\n",
    "top_customers = measure_and_log(\"Top 10 customers by volume\", \"Polars Lazy\", lambda: \n",
    "    lf.group_by(\"customer_id\").agg(\n",
    "        pl.col(\"amount\").sum().alias(\"total_amount\")\n",
    "    ).sort(\"total_amount\", descending=True).limit(10).collect()\n",
    ")"
   ]
  },
  {
   "cell_type": "markdown",
   "metadata": {},
   "source": [
    "#### Step 5: Fraud Analysis"
   ]
  },
  {
   "cell_type": "code",
   "execution_count": 8,
   "metadata": {},
   "outputs": [],
   "source": [
    "fraud_vs_nonfraud = measure_and_log(\"Fraud vs Non-Fraud Count\", \"Polars Lazy\", lambda:\n",
    "    lf.group_by(\"is_fraud\").agg(pl.len().alias(\"count\")).collect()\n",
    ")\n",
    "\n",
    "fraud_rate_by_type = measure_and_log(\"Fraud rate by merchant_type\", \"Polars Lazy\", lambda: \n",
    "    lf.group_by(\"merchant_type\").agg(\n",
    "        pl.col(\"is_fraud\").mean().alias(\"fraud_rate\")\n",
    "    ).collect()\n",
    ")\n",
    "\n",
    "fraud_amount_distribution = measure_and_log(\"Fraud amount stats\", \"Polars Lazy\", lambda:\n",
    "    lf.filter(pl.col(\"is_fraud\") == 1).collect().select(\"amount\").describe()\n",
    ")"
   ]
  },
  {
   "cell_type": "markdown",
   "metadata": {},
   "source": [
    "#### Step 6: Export benchmark results"
   ]
  },
  {
   "cell_type": "code",
   "execution_count": 9,
   "metadata": {},
   "outputs": [
    {
     "data": {
      "text/html": [
       "<div><style>\n",
       ".dataframe > thead > tr,\n",
       ".dataframe > tbody > tr {\n",
       "  text-align: right;\n",
       "  white-space: pre-wrap;\n",
       "}\n",
       "</style>\n",
       "<small>shape: (14, 5)</small><table border=\"1\" class=\"dataframe\"><thead><tr><th>Library</th><th>Step</th><th>Time (s)</th><th>Peak Memory (MB)</th><th>Total Object Memory (MB)</th></tr><tr><td>str</td><td>str</td><td>f64</td><td>f64</td><td>f64</td></tr></thead><tbody><tr><td>&quot;Polars Lazy&quot;</td><td>&quot;Load CSV&quot;</td><td>10.7296</td><td>0.569</td><td>2471.3581</td></tr><tr><td>&quot;Polars Lazy&quot;</td><td>&quot;Describe numeric columns&quot;</td><td>1.4702</td><td>0.2874</td><td>0.0015</td></tr><tr><td>&quot;Polars Lazy&quot;</td><td>&quot;Merchant type value counts&quot;</td><td>0.3087</td><td>0.0119</td><td>0.0002</td></tr><tr><td>&quot;Polars Lazy&quot;</td><td>&quot;Missing values per column&quot;</td><td>0.0011</td><td>0.0013</td><td>0.0001</td></tr><tr><td>&quot;Polars Lazy&quot;</td><td>&quot;Min txn_date&quot;</td><td>0.0216</td><td>0.0017</td><td>0.0</td></tr><tr><td>&hellip;</td><td>&hellip;</td><td>&hellip;</td><td>&hellip;</td><td>&hellip;</td></tr><tr><td>&quot;Polars Lazy&quot;</td><td>&quot;Avg/Total txn by merch type&quot;</td><td>0.1389</td><td>0.0031</td><td>0.0004</td></tr><tr><td>&quot;Polars Lazy&quot;</td><td>&quot;Top 10 customers by volume&quot;</td><td>0.163</td><td>0.0035</td><td>0.0002</td></tr><tr><td>&quot;Polars Lazy&quot;</td><td>&quot;Fraud vs Non-Fraud Count&quot;</td><td>0.0187</td><td>0.0027</td><td>0.0</td></tr><tr><td>&quot;Polars Lazy&quot;</td><td>&quot;Fraud rate by merchant_type&quot;</td><td>0.0513</td><td>0.0023</td><td>0.0003</td></tr><tr><td>&quot;Polars Lazy&quot;</td><td>&quot;Fraud amount stats&quot;</td><td>0.6633</td><td>0.0142</td><td>0.0001</td></tr></tbody></table></div>"
      ],
      "text/plain": [
       "shape: (14, 5)\n",
       "┌─────────────┬───────────────────────────┬──────────┬──────────────────┬──────────────────────────┐\n",
       "│ Library     ┆ Step                      ┆ Time (s) ┆ Peak Memory (MB) ┆ Total Object Memory (MB) │\n",
       "│ ---         ┆ ---                       ┆ ---      ┆ ---              ┆ ---                      │\n",
       "│ str         ┆ str                       ┆ f64      ┆ f64              ┆ f64                      │\n",
       "╞═════════════╪═══════════════════════════╪══════════╪══════════════════╪══════════════════════════╡\n",
       "│ Polars Lazy ┆ Load CSV                  ┆ 10.7296  ┆ 0.569            ┆ 2471.3581                │\n",
       "│ Polars Lazy ┆ Describe numeric columns  ┆ 1.4702   ┆ 0.2874           ┆ 0.0015                   │\n",
       "│ Polars Lazy ┆ Merchant type value       ┆ 0.3087   ┆ 0.0119           ┆ 0.0002                   │\n",
       "│             ┆ counts                    ┆          ┆                  ┆                          │\n",
       "│ Polars Lazy ┆ Missing values per column ┆ 0.0011   ┆ 0.0013           ┆ 0.0001                   │\n",
       "│ Polars Lazy ┆ Min txn_date              ┆ 0.0216   ┆ 0.0017           ┆ 0.0                      │\n",
       "│ …           ┆ …                         ┆ …        ┆ …                ┆ …                        │\n",
       "│ Polars Lazy ┆ Avg/Total txn by merch    ┆ 0.1389   ┆ 0.0031           ┆ 0.0004                   │\n",
       "│             ┆ type                      ┆          ┆                  ┆                          │\n",
       "│ Polars Lazy ┆ Top 10 customers by       ┆ 0.163    ┆ 0.0035           ┆ 0.0002                   │\n",
       "│             ┆ volume                    ┆          ┆                  ┆                          │\n",
       "│ Polars Lazy ┆ Fraud vs Non-Fraud Count  ┆ 0.0187   ┆ 0.0027           ┆ 0.0                      │\n",
       "│ Polars Lazy ┆ Fraud rate by             ┆ 0.0513   ┆ 0.0023           ┆ 0.0003                   │\n",
       "│             ┆ merchant_type             ┆          ┆                  ┆                          │\n",
       "│ Polars Lazy ┆ Fraud amount stats        ┆ 0.6633   ┆ 0.0142           ┆ 0.0001                   │\n",
       "└─────────────┴───────────────────────────┴──────────┴──────────────────┴──────────────────────────┘"
      ]
     },
     "execution_count": 9,
     "metadata": {},
     "output_type": "execute_result"
    }
   ],
   "source": [
    "pl.DataFrame(benchmark_results).write_csv(\"/Users/adolfomytr/Documents/Data Science/Polars/pandas-vs-polars/benchmark_results/benchmark_polars_lazy.csv\")\n",
    "pl.DataFrame(benchmark_results)"
   ]
  }
 ],
 "metadata": {
  "interpreter": {
   "hash": "bd298f439cec3fce4824eab919085afc570f8b01b13c0e9ab505c6bd85a627bf"
  },
  "kernelspec": {
   "display_name": "Python 3.8.5 ('base')",
   "language": "python",
   "name": "python3"
  },
  "language_info": {
   "codemirror_mode": {
    "name": "ipython",
    "version": 3
   },
   "file_extension": ".py",
   "mimetype": "text/x-python",
   "name": "python",
   "nbconvert_exporter": "python",
   "pygments_lexer": "ipython3",
   "version": "3.8.5"
  },
  "orig_nbformat": 4
 },
 "nbformat": 4,
 "nbformat_minor": 2
}
