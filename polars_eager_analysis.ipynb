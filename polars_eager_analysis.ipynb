{
 "cells": [
  {
   "cell_type": "markdown",
   "metadata": {},
   "source": [
    "## Polars Eager analysis for banking datset"
   ]
  },
  {
   "cell_type": "markdown",
   "metadata": {},
   "source": [
    "Dataset:\n",
    "https://www.kaggle.com/datasets/ismetsemedov/transactions?resource=download"
   ]
  },
  {
   "cell_type": "code",
   "execution_count": 3,
   "metadata": {},
   "outputs": [],
   "source": [
    "# Import libraries\n",
    "import polars as pl\n",
    "import time\n",
    "import tracemalloc"
   ]
  },
  {
   "cell_type": "code",
   "execution_count": 4,
   "metadata": {},
   "outputs": [],
   "source": [
    "# Create function to measure and log results\n",
    "benchmark_results = []\n",
    "\n",
    "def measure_and_log(step_name, library_name, operation_func, *args, **kwargs):\n",
    "    tracemalloc.start()\n",
    "    start = time.perf_counter()\n",
    "\n",
    "    result = operation_func(*args, **kwargs)\n",
    "\n",
    "    end = time.perf_counter()\n",
    "    _, peak = tracemalloc.get_traced_memory()\n",
    "    tracemalloc.stop()\n",
    "\n",
    "    # Build the new entry\n",
    "    new_entry = {\n",
    "        \"Library\": library_name,\n",
    "        \"Step\": step_name,\n",
    "        \"Time (s)\": round(end - start, 4),\n",
    "        \"Peak Memory (MB)\": round(peak / 10**6, 4)\n",
    "    }\n",
    "\n",
    "    # Remove existing entry for same library + step\n",
    "    global benchmark_results\n",
    "    benchmark_results = [\n",
    "        entry for entry in benchmark_results\n",
    "        if not (entry[\"Library\"] == library_name and entry[\"Step\"] == step_name)\n",
    "    ]\n",
    "\n",
    "    # Add the new one\n",
    "    benchmark_results.append(new_entry)\n",
    "\n",
    "    return result"
   ]
  },
  {
   "cell_type": "markdown",
   "metadata": {},
   "source": []
  }
 ],
 "metadata": {
  "interpreter": {
   "hash": "bd298f439cec3fce4824eab919085afc570f8b01b13c0e9ab505c6bd85a627bf"
  },
  "kernelspec": {
   "display_name": "Python 3.8.5 ('base')",
   "language": "python",
   "name": "python3"
  },
  "language_info": {
   "codemirror_mode": {
    "name": "ipython",
    "version": 3
   },
   "file_extension": ".py",
   "mimetype": "text/x-python",
   "name": "python",
   "nbconvert_exporter": "python",
   "pygments_lexer": "ipython3",
   "version": "3.8.5"
  },
  "orig_nbformat": 4
 },
 "nbformat": 4,
 "nbformat_minor": 2
}
