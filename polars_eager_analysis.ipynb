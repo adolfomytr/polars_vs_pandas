{
 "cells": [
  {
   "cell_type": "markdown",
   "metadata": {},
   "source": [
    "## Polars Eager analysis for banking datset"
   ]
  },
  {
   "cell_type": "markdown",
   "metadata": {},
   "source": [
    "Dataset:\n",
    "https://www.kaggle.com/datasets/ismetsemedov/transactions?resource=download"
   ]
  },
  {
   "cell_type": "code",
   "execution_count": 22,
   "metadata": {},
   "outputs": [],
   "source": [
    "# Import libraries\n",
    "import polars as pl\n",
    "import time\n",
    "import tracemalloc"
   ]
  },
  {
   "cell_type": "code",
   "execution_count": 23,
   "metadata": {},
   "outputs": [],
   "source": [
    "# Create function to measure and log results\n",
    "benchmark_results = []\n",
    "\n",
    "def measure_and_log(step_name, library_name, operation_func, *args, **kwargs):\n",
    "    tracemalloc.start()\n",
    "    start = time.perf_counter()\n",
    "\n",
    "    result = operation_func(*args, **kwargs)\n",
    "\n",
    "    end = time.perf_counter()\n",
    "    _, peak = tracemalloc.get_traced_memory()\n",
    "    tracemalloc.stop()\n",
    "\n",
    "    # Build the new entry\n",
    "    new_entry = {\n",
    "        \"Library\": library_name,\n",
    "        \"Step\": step_name,\n",
    "        \"Time (s)\": round(end - start, 4),\n",
    "        \"Peak Memory (MB)\": round(peak / 10**6, 4)\n",
    "    }\n",
    "\n",
    "    # Remove existing entry for same library + step\n",
    "    global benchmark_results\n",
    "    benchmark_results = [\n",
    "        entry for entry in benchmark_results\n",
    "        if not (entry[\"Library\"] == library_name and entry[\"Step\"] == step_name)\n",
    "    ]\n",
    "\n",
    "    # Add the new one\n",
    "    benchmark_results.append(new_entry)\n",
    "\n",
    "    return result"
   ]
  },
  {
   "cell_type": "code",
   "execution_count": 24,
   "metadata": {},
   "outputs": [],
   "source": [
    "transactions_csv = '/Users/adolfomytr/Documents/Data Science/Polars/synthetic_fraud_data.csv'"
   ]
  },
  {
   "cell_type": "markdown",
   "metadata": {},
   "source": [
    "#### Step 1: Load the dataset"
   ]
  },
  {
   "cell_type": "code",
   "execution_count": 25,
   "metadata": {},
   "outputs": [],
   "source": [
    "def load_csv():\n",
    "    return pl.read_csv(transactions_csv, try_parse_dates=True)\n",
    "\n",
    "df = measure_and_log(\"Load CSV\", \"Polars Eager\", load_csv)"
   ]
  },
  {
   "cell_type": "markdown",
   "metadata": {},
   "source": [
    "#### Step 2: Exploratory Data Analysis"
   ]
  },
  {
   "cell_type": "code",
   "execution_count": 26,
   "metadata": {},
   "outputs": [],
   "source": [
    "# Summary statistics for numeric columns\n",
    "summary = measure_and_log(\n",
    "    \"Describe numeric columns\", \"Polars Eager\",\n",
    "    lambda: df.describe()\n",
    ")\n",
    "\n",
    "# Value counts for merchant_type\n",
    "merchant_type_counts = measure_and_log(\n",
    "    \"Merchang type value counts\", \"Polars Eager\",\n",
    "    lambda: df.select(pl.col(\"merchant_type\")).to_series().value_counts()\n",
    ")\n",
    "\n",
    "# Missing values per column\n",
    "missing_values = measure_and_log(\n",
    "    \"Missing values per column\", \"Polars Eager\",\n",
    "    lambda: df.null_count()\n",
    ")\n",
    "\n",
    "# Minimum timestamp\n",
    "min_date = measure_and_log(\n",
    "    \"Min txn_date\", \"Polars Eager\",\n",
    "    lambda: df.select(pl.col(\"timestamp\").min())\n",
    ")\n",
    "\n",
    "# Maximum timestamp\n",
    "max_date = measure_and_log(\n",
    "    \"Max txn_date\", \"Polars Eager\",\n",
    "    lambda: df.select(pl.col(\"timestamp\").max())\n",
    ")\n",
    "\n",
    "# Unique customer_id count\n",
    "unique_customers = measure_and_log(\n",
    "    \"Unique customer_id count\", \"Polars Eager\",\n",
    "    lambda: df.select(pl.col(\"customer_id\")).n_unique()\n",
    ")"
   ]
  },
  {
   "cell_type": "markdown",
   "metadata": {},
   "source": [
    "#### Step 3: Transaction Volume Analysis"
   ]
  },
  {
   "cell_type": "code",
   "execution_count": 27,
   "metadata": {},
   "outputs": [
    {
     "name": "stderr",
     "output_type": "stream",
     "text": [
      "<ipython-input-27-2f22b58d156b>:3: DeprecationWarning: `GroupBy.count` is deprecated. It has been renamed to `len`.\n",
      "  df.group_by(\"timestamp\").count()\n",
      "<ipython-input-27-2f22b58d156b>:8: DeprecationWarning: `GroupBy.count` is deprecated. It has been renamed to `len`.\n",
      "  df.with_columns(\n"
     ]
    }
   ],
   "source": [
    "# Daily transaction count\n",
    "daily_txns = measure_and_log(\"Daily transaction count\", \"Polars Eager\", lambda: \n",
    "    df.group_by(\"timestamp\").count()\n",
    ")\n",
    "\n",
    "# Monthly transaction count (convert timestamp to month)\n",
    "monthly_txns = measure_and_log(\"Monthly transaction count\", \"Polars Eager\", lambda: \n",
    "    df.with_columns(\n",
    "        pl.col(\"timestamp\").dt.truncate(\"1mo\").alias(\"month\")\n",
    "    ).group_by(\"month\").count()\n",
    ")"
   ]
  },
  {
   "cell_type": "code",
   "execution_count": 28,
   "metadata": {},
   "outputs": [
    {
     "data": {
      "text/html": [
       "<div><style>\n",
       ".dataframe > thead > tr,\n",
       ".dataframe > tbody > tr {\n",
       "  text-align: right;\n",
       "  white-space: pre-wrap;\n",
       "}\n",
       "</style>\n",
       "<small>shape: (9, 4)</small><table border=\"1\" class=\"dataframe\"><thead><tr><th>Library</th><th>Step</th><th>Time (s)</th><th>Peak Memory (MB)</th></tr><tr><td>str</td><td>str</td><td>f64</td><td>f64</td></tr></thead><tbody><tr><td>&quot;Polars Eager&quot;</td><td>&quot;Load CSV&quot;</td><td>10.2407</td><td>0.0035</td></tr><tr><td>&quot;Polars Eager&quot;</td><td>&quot;Describe numeric columns&quot;</td><td>1.3188</td><td>0.1034</td></tr><tr><td>&quot;Polars Eager&quot;</td><td>&quot;Merchang type value counts&quot;</td><td>0.5702</td><td>0.0016</td></tr><tr><td>&quot;Polars Eager&quot;</td><td>&quot;Missing values per column&quot;</td><td>0.0</td><td>0.0001</td></tr><tr><td>&quot;Polars Eager&quot;</td><td>&quot;Min txn_date&quot;</td><td>0.0221</td><td>0.0016</td></tr><tr><td>&quot;Polars Eager&quot;</td><td>&quot;Max txn_date&quot;</td><td>0.0022</td><td>0.0016</td></tr><tr><td>&quot;Polars Eager&quot;</td><td>&quot;Unique customer_id count&quot;</td><td>0.6007</td><td>0.0022</td></tr><tr><td>&quot;Polars Eager&quot;</td><td>&quot;Daily transaction count&quot;</td><td>6.739</td><td>0.0058</td></tr><tr><td>&quot;Polars Eager&quot;</td><td>&quot;Monthly transaction count&quot;</td><td>0.1157</td><td>0.0035</td></tr></tbody></table></div>"
      ],
      "text/plain": [
       "shape: (9, 4)\n",
       "┌──────────────┬────────────────────────────┬──────────┬──────────────────┐\n",
       "│ Library      ┆ Step                       ┆ Time (s) ┆ Peak Memory (MB) │\n",
       "│ ---          ┆ ---                        ┆ ---      ┆ ---              │\n",
       "│ str          ┆ str                        ┆ f64      ┆ f64              │\n",
       "╞══════════════╪════════════════════════════╪══════════╪══════════════════╡\n",
       "│ Polars Eager ┆ Load CSV                   ┆ 10.2407  ┆ 0.0035           │\n",
       "│ Polars Eager ┆ Describe numeric columns   ┆ 1.3188   ┆ 0.1034           │\n",
       "│ Polars Eager ┆ Merchang type value counts ┆ 0.5702   ┆ 0.0016           │\n",
       "│ Polars Eager ┆ Missing values per column  ┆ 0.0      ┆ 0.0001           │\n",
       "│ Polars Eager ┆ Min txn_date               ┆ 0.0221   ┆ 0.0016           │\n",
       "│ Polars Eager ┆ Max txn_date               ┆ 0.0022   ┆ 0.0016           │\n",
       "│ Polars Eager ┆ Unique customer_id count   ┆ 0.6007   ┆ 0.0022           │\n",
       "│ Polars Eager ┆ Daily transaction count    ┆ 6.739    ┆ 0.0058           │\n",
       "│ Polars Eager ┆ Monthly transaction count  ┆ 0.1157   ┆ 0.0035           │\n",
       "└──────────────┴────────────────────────────┴──────────┴──────────────────┘"
      ]
     },
     "execution_count": 28,
     "metadata": {},
     "output_type": "execute_result"
    }
   ],
   "source": [
    "benchmark_results = pl.DataFrame(benchmark_results)\n",
    "benchmark_results"
   ]
  },
  {
   "cell_type": "markdown",
   "metadata": {},
   "source": []
  }
 ],
 "metadata": {
  "interpreter": {
   "hash": "bd298f439cec3fce4824eab919085afc570f8b01b13c0e9ab505c6bd85a627bf"
  },
  "kernelspec": {
   "display_name": "Python 3.8.5 ('base')",
   "language": "python",
   "name": "python3"
  },
  "language_info": {
   "codemirror_mode": {
    "name": "ipython",
    "version": 3
   },
   "file_extension": ".py",
   "mimetype": "text/x-python",
   "name": "python",
   "nbconvert_exporter": "python",
   "pygments_lexer": "ipython3",
   "version": "3.8.5"
  },
  "orig_nbformat": 4
 },
 "nbformat": 4,
 "nbformat_minor": 2
}
